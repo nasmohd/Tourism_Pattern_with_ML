{
 "cells": [
  {
   "cell_type": "code",
   "execution_count": 1,
   "id": "c492abc5",
   "metadata": {},
   "outputs": [],
   "source": [
    "import numpy as np # linear algebra\n",
    "import pandas as pd # data processing, CSV file I/O (e.g. pd.read_csv)\n",
    "import matplotlib.pyplot as plt\n",
    "import seaborn as sns\n",
    "import matplotlib"
   ]
  },
  {
   "cell_type": "markdown",
   "id": "7961af3f",
   "metadata": {},
   "source": [
    "# Importing the data using Pandas"
   ]
  },
  {
   "cell_type": "code",
   "execution_count": 2,
   "id": "b04ab822",
   "metadata": {},
   "outputs": [],
   "source": [
    "tourism_data = pd.read_csv (\"tanzania_tourism_stats.csv\")"
   ]
  },
  {
   "cell_type": "code",
   "execution_count": 3,
   "id": "560091c4",
   "metadata": {},
   "outputs": [
    {
     "data": {
      "text/html": [
       "<div>\n",
       "<style scoped>\n",
       "    .dataframe tbody tr th:only-of-type {\n",
       "        vertical-align: middle;\n",
       "    }\n",
       "\n",
       "    .dataframe tbody tr th {\n",
       "        vertical-align: top;\n",
       "    }\n",
       "\n",
       "    .dataframe thead th {\n",
       "        text-align: right;\n",
       "    }\n",
       "</style>\n",
       "<table border=\"1\" class=\"dataframe\">\n",
       "  <thead>\n",
       "    <tr style=\"text-align: right;\">\n",
       "      <th></th>\n",
       "      <th>Country</th>\n",
       "      <th>Month</th>\n",
       "      <th>Visitors</th>\n",
       "      <th>search interest</th>\n",
       "      <th>Average High Celsius</th>\n",
       "      <th>Average Low Celsius</th>\n",
       "      <th>Average Precipitation Days</th>\n",
       "      <th>Average Precipitation mm</th>\n",
       "      <th>Average Relative Humidity</th>\n",
       "      <th>Daily Mean Celsius</th>\n",
       "    </tr>\n",
       "  </thead>\n",
       "  <tbody>\n",
       "    <tr>\n",
       "      <th>0</th>\n",
       "      <td>SWIZERLAND</td>\n",
       "      <td>jan</td>\n",
       "      <td>51772</td>\n",
       "      <td>646372</td>\n",
       "      <td>33.0</td>\n",
       "      <td>29.0</td>\n",
       "      <td>16</td>\n",
       "      <td>274</td>\n",
       "      <td>83</td>\n",
       "      <td>31.0</td>\n",
       "    </tr>\n",
       "    <tr>\n",
       "      <th>1</th>\n",
       "      <td>SWIZERLAND</td>\n",
       "      <td>feb</td>\n",
       "      <td>130947</td>\n",
       "      <td>631166</td>\n",
       "      <td>32.4</td>\n",
       "      <td>30.4</td>\n",
       "      <td>15</td>\n",
       "      <td>265</td>\n",
       "      <td>83</td>\n",
       "      <td>31.4</td>\n",
       "    </tr>\n",
       "    <tr>\n",
       "      <th>2</th>\n",
       "      <td>SWIZERLAND</td>\n",
       "      <td>march</td>\n",
       "      <td>20341</td>\n",
       "      <td>322640</td>\n",
       "      <td>34.0</td>\n",
       "      <td>31.0</td>\n",
       "      <td>13</td>\n",
       "      <td>230</td>\n",
       "      <td>83</td>\n",
       "      <td>NaN</td>\n",
       "    </tr>\n",
       "    <tr>\n",
       "      <th>3</th>\n",
       "      <td>SWIZERLAND</td>\n",
       "      <td>april</td>\n",
       "      <td>138966</td>\n",
       "      <td>1426600</td>\n",
       "      <td>34.2</td>\n",
       "      <td>31.2</td>\n",
       "      <td>9</td>\n",
       "      <td>95</td>\n",
       "      <td>84</td>\n",
       "      <td>32.7</td>\n",
       "    </tr>\n",
       "    <tr>\n",
       "      <th>4</th>\n",
       "      <td>SWIZERLAND</td>\n",
       "      <td>may</td>\n",
       "      <td>78025</td>\n",
       "      <td>917229</td>\n",
       "      <td>33.2</td>\n",
       "      <td>32.2</td>\n",
       "      <td>10</td>\n",
       "      <td>106</td>\n",
       "      <td>83</td>\n",
       "      <td>32.7</td>\n",
       "    </tr>\n",
       "    <tr>\n",
       "      <th>5</th>\n",
       "      <td>SWIZERLAND</td>\n",
       "      <td>june</td>\n",
       "      <td>138178</td>\n",
       "      <td>647755</td>\n",
       "      <td>31.6</td>\n",
       "      <td>31.6</td>\n",
       "      <td>8</td>\n",
       "      <td>145</td>\n",
       "      <td>84</td>\n",
       "      <td>NaN</td>\n",
       "    </tr>\n",
       "    <tr>\n",
       "      <th>6</th>\n",
       "      <td>SWIZERLAND</td>\n",
       "      <td>july</td>\n",
       "      <td>97158</td>\n",
       "      <td>891281</td>\n",
       "      <td>32.4</td>\n",
       "      <td>31.4</td>\n",
       "      <td>6</td>\n",
       "      <td>120</td>\n",
       "      <td>84</td>\n",
       "      <td>31.9</td>\n",
       "    </tr>\n",
       "    <tr>\n",
       "      <th>7</th>\n",
       "      <td>SWIZERLAND</td>\n",
       "      <td>aug</td>\n",
       "      <td>111152</td>\n",
       "      <td>2145048</td>\n",
       "      <td>29.6</td>\n",
       "      <td>29.2</td>\n",
       "      <td>11</td>\n",
       "      <td>190</td>\n",
       "      <td>83</td>\n",
       "      <td>29.4</td>\n",
       "    </tr>\n",
       "    <tr>\n",
       "      <th>8</th>\n",
       "      <td>SWIZERLAND</td>\n",
       "      <td>sept</td>\n",
       "      <td>23520</td>\n",
       "      <td>1823857</td>\n",
       "      <td>31.4</td>\n",
       "      <td>30.2</td>\n",
       "      <td>10</td>\n",
       "      <td>170</td>\n",
       "      <td>83</td>\n",
       "      <td>30.8</td>\n",
       "    </tr>\n",
       "    <tr>\n",
       "      <th>9</th>\n",
       "      <td>SWIZERLAND</td>\n",
       "      <td>oct</td>\n",
       "      <td>76874</td>\n",
       "      <td>2067533</td>\n",
       "      <td>33.6</td>\n",
       "      <td>31.4</td>\n",
       "      <td>12</td>\n",
       "      <td>215</td>\n",
       "      <td>83</td>\n",
       "      <td>32.5</td>\n",
       "    </tr>\n",
       "  </tbody>\n",
       "</table>\n",
       "</div>"
      ],
      "text/plain": [
       "      Country  Month  Visitors  search interest  Average High Celsius  \\\n",
       "0  SWIZERLAND    jan     51772           646372                  33.0   \n",
       "1  SWIZERLAND    feb    130947           631166                  32.4   \n",
       "2  SWIZERLAND  march     20341           322640                  34.0   \n",
       "3  SWIZERLAND  april    138966          1426600                  34.2   \n",
       "4  SWIZERLAND    may     78025           917229                  33.2   \n",
       "5  SWIZERLAND   june    138178           647755                  31.6   \n",
       "6  SWIZERLAND   july     97158           891281                  32.4   \n",
       "7  SWIZERLAND    aug    111152          2145048                  29.6   \n",
       "8  SWIZERLAND   sept     23520          1823857                  31.4   \n",
       "9  SWIZERLAND    oct     76874          2067533                  33.6   \n",
       "\n",
       "   Average Low Celsius  Average Precipitation Days  Average Precipitation mm  \\\n",
       "0                 29.0                          16                       274   \n",
       "1                 30.4                          15                       265   \n",
       "2                 31.0                          13                       230   \n",
       "3                 31.2                           9                        95   \n",
       "4                 32.2                          10                       106   \n",
       "5                 31.6                           8                       145   \n",
       "6                 31.4                           6                       120   \n",
       "7                 29.2                          11                       190   \n",
       "8                 30.2                          10                       170   \n",
       "9                 31.4                          12                       215   \n",
       "\n",
       "   Average Relative Humidity  Daily Mean Celsius  \n",
       "0                         83                31.0  \n",
       "1                         83                31.4  \n",
       "2                         83                 NaN  \n",
       "3                         84                32.7  \n",
       "4                         83                32.7  \n",
       "5                         84                 NaN  \n",
       "6                         84                31.9  \n",
       "7                         83                29.4  \n",
       "8                         83                30.8  \n",
       "9                         83                32.5  "
      ]
     },
     "execution_count": 3,
     "metadata": {},
     "output_type": "execute_result"
    }
   ],
   "source": [
    "tourism_data.head(10) #Displays the first 10 rows of the dataset"
   ]
  },
  {
   "cell_type": "markdown",
   "id": "981f2476",
   "metadata": {},
   "source": [
    "# Exploratory Data Analysis (EDA)\n",
    "1. Columns with multiple categorical values require encoding\n",
    "2. Some columns may need renaming (though, not necessary)"
   ]
  },
  {
   "cell_type": "code",
   "execution_count": 4,
   "id": "cea57d6d",
   "metadata": {},
   "outputs": [
    {
     "data": {
      "text/plain": [
       "(1296, 10)"
      ]
     },
     "execution_count": 4,
     "metadata": {},
     "output_type": "execute_result"
    }
   ],
   "source": [
    "tourism_data.shape"
   ]
  },
  {
   "cell_type": "code",
   "execution_count": 5,
   "id": "d2478717",
   "metadata": {},
   "outputs": [
    {
     "name": "stdout",
     "output_type": "stream",
     "text": [
      "<class 'pandas.core.frame.DataFrame'>\n",
      "RangeIndex: 1296 entries, 0 to 1295\n",
      "Data columns (total 10 columns):\n",
      " #   Column                      Non-Null Count  Dtype  \n",
      "---  ------                      --------------  -----  \n",
      " 0   Country                     1296 non-null   object \n",
      " 1   Month                       1296 non-null   object \n",
      " 2   Visitors                    1296 non-null   int64  \n",
      " 3   search interest             1296 non-null   int64  \n",
      " 4   Average High Celsius        1296 non-null   float64\n",
      " 5   Average Low Celsius         1296 non-null   float64\n",
      " 6   Average Precipitation Days  1296 non-null   int64  \n",
      " 7   Average Precipitation mm    1296 non-null   int64  \n",
      " 8   Average Relative Humidity   1296 non-null   int64  \n",
      " 9   Daily Mean Celsius          1249 non-null   float64\n",
      "dtypes: float64(3), int64(5), object(2)\n",
      "memory usage: 101.4+ KB\n"
     ]
    }
   ],
   "source": [
    "tourism_data.info() #checking for NULL values"
   ]
  },
  {
   "cell_type": "markdown",
   "id": "625d9193",
   "metadata": {},
   "source": [
    "As can be observer, the Daily Mean Celsius column has some missing values"
   ]
  },
  {
   "cell_type": "code",
   "execution_count": 6,
   "id": "15e9aadb",
   "metadata": {},
   "outputs": [
    {
     "data": {
      "text/plain": [
       "Country                        0\n",
       "Month                          0\n",
       "Visitors                       0\n",
       "search interest                0\n",
       "Average High Celsius           0\n",
       "Average Low Celsius            0\n",
       "Average Precipitation Days     0\n",
       "Average Precipitation mm       0\n",
       "Average Relative Humidity      0\n",
       "Daily Mean Celsius            47\n",
       "dtype: int64"
      ]
     },
     "execution_count": 6,
     "metadata": {},
     "output_type": "execute_result"
    }
   ],
   "source": [
    "tourism_data.isna().sum() #Count NaN or missing values"
   ]
  },
  {
   "cell_type": "markdown",
   "id": "f6ca31ed",
   "metadata": {},
   "source": [
    "#### Rename columns"
   ]
  },
  {
   "cell_type": "code",
   "execution_count": 7,
   "id": "8be801f5",
   "metadata": {},
   "outputs": [],
   "source": [
    "tourism_data.rename(columns = {'search interest':'search_interest', 'Average High Celsius':'avg_high_celsius', \n",
    "                               'Average Low Celsius':'avg_low_celsius', 'Average Precipitation Days': 'avg_ppt_days',\n",
    "                               'Average Precipitation mm':'avg_ppt_mm', 'Average Relative Humidity': 'avg_relative_humidity',\n",
    "                              'Daily Mean Celsius':'daily_mean_celsius'}, inplace = True)"
   ]
  },
  {
   "cell_type": "code",
   "execution_count": 8,
   "id": "e0902679",
   "metadata": {},
   "outputs": [
    {
     "name": "stdout",
     "output_type": "stream",
     "text": [
      "<class 'pandas.core.frame.DataFrame'>\n",
      "RangeIndex: 1296 entries, 0 to 1295\n",
      "Data columns (total 10 columns):\n",
      " #   Column                 Non-Null Count  Dtype  \n",
      "---  ------                 --------------  -----  \n",
      " 0   Country                1296 non-null   object \n",
      " 1   Month                  1296 non-null   object \n",
      " 2   Visitors               1296 non-null   int64  \n",
      " 3   search_interest        1296 non-null   int64  \n",
      " 4   avg_high_celsius       1296 non-null   float64\n",
      " 5   avg_low_celsius        1296 non-null   float64\n",
      " 6   avg_ppt_days           1296 non-null   int64  \n",
      " 7   avg_ppt_mm             1296 non-null   int64  \n",
      " 8   avg_relative_humidity  1296 non-null   int64  \n",
      " 9   daily_mean_celsius     1249 non-null   float64\n",
      "dtypes: float64(3), int64(5), object(2)\n",
      "memory usage: 101.4+ KB\n"
     ]
    }
   ],
   "source": [
    "tourism_data.info()"
   ]
  },
  {
   "cell_type": "code",
   "execution_count": 9,
   "id": "42aa28e7",
   "metadata": {},
   "outputs": [
    {
     "name": "stdout",
     "output_type": "stream",
     "text": [
      "['daily_mean_celsius']\n",
      "\n",
      "Number of columns with missing values are:  1\n"
     ]
    }
   ],
   "source": [
    "#Find columns with missing values\n",
    "cols_missing_values = tourism_data.columns[tourism_data.isnull().any()].tolist()  # to get a list instead of an Index object\n",
    "print (cols_missing_values)\n",
    "\n",
    "#count columns with missing values\n",
    "print (\"\\nNumber of columns with missing values are: \", len(cols_missing_values))"
   ]
  },
  {
   "cell_type": "markdown",
   "id": "0b0e6771",
   "metadata": {},
   "source": [
    "We can observe that:\n",
    "    Out of 10 columns in the dataset, 1 column contain missing values"
   ]
  },
  {
   "cell_type": "markdown",
   "id": "4e2f457e",
   "metadata": {},
   "source": [
    "# Handle Missing values in columns"
   ]
  },
  {
   "cell_type": "code",
   "execution_count": 10,
   "id": "9a59ee34",
   "metadata": {},
   "outputs": [
    {
     "data": {
      "text/plain": [
       "[2,\n",
       " 5,\n",
       " 10,\n",
       " 17,\n",
       " 22,\n",
       " 26,\n",
       " 33,\n",
       " 39,\n",
       " 44,\n",
       " 146,\n",
       " 290,\n",
       " 440,\n",
       " 603,\n",
       " 809,\n",
       " 903,\n",
       " 1016,\n",
       " 1055,\n",
       " 1058,\n",
       " 1063,\n",
       " 1067,\n",
       " 1077,\n",
       " 1080,\n",
       " 1082,\n",
       " 1084,\n",
       " 1086,\n",
       " 1090,\n",
       " 1092,\n",
       " 1095,\n",
       " 1098,\n",
       " 1113,\n",
       " 1114,\n",
       " 1117,\n",
       " 1121,\n",
       " 1126,\n",
       " 1133,\n",
       " 1164,\n",
       " 1167,\n",
       " 1171,\n",
       " 1185,\n",
       " 1190,\n",
       " 1192,\n",
       " 1220,\n",
       " 1227,\n",
       " 1238,\n",
       " 1244,\n",
       " 1258,\n",
       " 1276]"
      ]
     },
     "execution_count": 10,
     "metadata": {},
     "output_type": "execute_result"
    }
   ],
   "source": [
    "missing_daily_mean_celsius = tourism_data[tourism_data['daily_mean_celsius'].isnull()].index.tolist() #Index of columns with null values\n",
    "missing_daily_mean_celsius"
   ]
  },
  {
   "cell_type": "code",
   "execution_count": 11,
   "id": "2629f4d6",
   "metadata": {},
   "outputs": [
    {
     "name": "stderr",
     "output_type": "stream",
     "text": [
      "C:\\Users\\Nassor\\AppData\\Local\\Temp\\ipykernel_10048\\1411110861.py:6: SettingWithCopyWarning: \n",
      "A value is trying to be set on a copy of a slice from a DataFrame\n",
      "\n",
      "See the caveats in the documentation: https://pandas.pydata.org/pandas-docs/stable/user_guide/indexing.html#returning-a-view-versus-a-copy\n",
      "  tourism_data['daily_mean_celsius'][i] = res\n"
     ]
    }
   ],
   "source": [
    "# Filling in missing Daily Mean Celsius values\n",
    "for i in missing_daily_mean_celsius:\n",
    "    #tourism_data.iloc[i] = \n",
    "    res = (tourism_data['avg_high_celsius'][i] + tourism_data['avg_low_celsius'][i])*0.5\n",
    "    res = round(res, 1)\n",
    "    tourism_data['daily_mean_celsius'][i] = res"
   ]
  },
  {
   "cell_type": "code",
   "execution_count": 12,
   "id": "013c5365",
   "metadata": {},
   "outputs": [
    {
     "name": "stdout",
     "output_type": "stream",
     "text": [
      "Country                  SWIZERLAND\n",
      "Month                           nov\n",
      "Visitors                      31187\n",
      "search_interest              848166\n",
      "avg_high_celsius               32.7\n",
      "avg_low_celsius                30.4\n",
      "avg_ppt_days                     12\n",
      "avg_ppt_mm                      215\n",
      "avg_relative_humidity            84\n",
      "daily_mean_celsius             31.6\n",
      "Name: 10, dtype: object\n",
      "Country                  AUSTRIA\n",
      "Month                      march\n",
      "Visitors                  106347\n",
      "search_interest           749651\n",
      "avg_high_celsius            34.0\n",
      "avg_low_celsius             31.0\n",
      "avg_ppt_days                  13\n",
      "avg_ppt_mm                   230\n",
      "avg_relative_humidity         83\n",
      "daily_mean_celsius          32.5\n",
      "Name: 146, dtype: object\n"
     ]
    }
   ],
   "source": [
    "#Verifying the value changes\n",
    "print(tourism_data.iloc[10])\n",
    "print(tourism_data.iloc[146])"
   ]
  },
  {
   "cell_type": "markdown",
   "id": "d8806c0c",
   "metadata": {},
   "source": [
    "Check again missing values"
   ]
  },
  {
   "cell_type": "code",
   "execution_count": 13,
   "id": "a845594b",
   "metadata": {},
   "outputs": [
    {
     "data": {
      "text/plain": [
       "Country                  0\n",
       "Month                    0\n",
       "Visitors                 0\n",
       "search_interest          0\n",
       "avg_high_celsius         0\n",
       "avg_low_celsius          0\n",
       "avg_ppt_days             0\n",
       "avg_ppt_mm               0\n",
       "avg_relative_humidity    0\n",
       "daily_mean_celsius       0\n",
       "dtype: int64"
      ]
     },
     "execution_count": 13,
     "metadata": {},
     "output_type": "execute_result"
    }
   ],
   "source": [
    "tourism_data.isna().sum() #Count NaN or missing values"
   ]
  },
  {
   "cell_type": "markdown",
   "id": "23fb35cf",
   "metadata": {},
   "source": [
    "# Feature Engineering "
   ]
  },
  {
   "cell_type": "markdown",
   "id": "a30fd60b",
   "metadata": {},
   "source": [
    "## One Hot Encoding "
   ]
  },
  {
   "cell_type": "markdown",
   "id": "72139a51",
   "metadata": {},
   "source": [
    "There are two categorical features (month and country) in the dataset, therefore I need to convert all categories from rows into columns. This technique is called One Hot Encoding."
   ]
  },
  {
   "cell_type": "code",
   "execution_count": 14,
   "id": "5fb95742",
   "metadata": {},
   "outputs": [
    {
     "data": {
      "text/html": [
       "<div>\n",
       "<style scoped>\n",
       "    .dataframe tbody tr th:only-of-type {\n",
       "        vertical-align: middle;\n",
       "    }\n",
       "\n",
       "    .dataframe tbody tr th {\n",
       "        vertical-align: top;\n",
       "    }\n",
       "\n",
       "    .dataframe thead th {\n",
       "        text-align: right;\n",
       "    }\n",
       "</style>\n",
       "<table border=\"1\" class=\"dataframe\">\n",
       "  <thead>\n",
       "    <tr style=\"text-align: right;\">\n",
       "      <th></th>\n",
       "      <th>Country</th>\n",
       "      <th>Month</th>\n",
       "      <th>Visitors</th>\n",
       "      <th>search_interest</th>\n",
       "      <th>avg_high_celsius</th>\n",
       "      <th>avg_low_celsius</th>\n",
       "      <th>avg_ppt_days</th>\n",
       "      <th>avg_ppt_mm</th>\n",
       "      <th>avg_relative_humidity</th>\n",
       "      <th>daily_mean_celsius</th>\n",
       "      <th>...</th>\n",
       "      <th>dec</th>\n",
       "      <th>feb</th>\n",
       "      <th>jan</th>\n",
       "      <th>july</th>\n",
       "      <th>june</th>\n",
       "      <th>march</th>\n",
       "      <th>may</th>\n",
       "      <th>nov</th>\n",
       "      <th>oct</th>\n",
       "      <th>sept</th>\n",
       "    </tr>\n",
       "  </thead>\n",
       "  <tbody>\n",
       "    <tr>\n",
       "      <th>0</th>\n",
       "      <td>SWIZERLAND</td>\n",
       "      <td>jan</td>\n",
       "      <td>51772</td>\n",
       "      <td>646372</td>\n",
       "      <td>33.0</td>\n",
       "      <td>29.0</td>\n",
       "      <td>16</td>\n",
       "      <td>274</td>\n",
       "      <td>83</td>\n",
       "      <td>31.0</td>\n",
       "      <td>...</td>\n",
       "      <td>0</td>\n",
       "      <td>0</td>\n",
       "      <td>1</td>\n",
       "      <td>0</td>\n",
       "      <td>0</td>\n",
       "      <td>0</td>\n",
       "      <td>0</td>\n",
       "      <td>0</td>\n",
       "      <td>0</td>\n",
       "      <td>0</td>\n",
       "    </tr>\n",
       "    <tr>\n",
       "      <th>1</th>\n",
       "      <td>SWIZERLAND</td>\n",
       "      <td>feb</td>\n",
       "      <td>130947</td>\n",
       "      <td>631166</td>\n",
       "      <td>32.4</td>\n",
       "      <td>30.4</td>\n",
       "      <td>15</td>\n",
       "      <td>265</td>\n",
       "      <td>83</td>\n",
       "      <td>31.4</td>\n",
       "      <td>...</td>\n",
       "      <td>0</td>\n",
       "      <td>1</td>\n",
       "      <td>0</td>\n",
       "      <td>0</td>\n",
       "      <td>0</td>\n",
       "      <td>0</td>\n",
       "      <td>0</td>\n",
       "      <td>0</td>\n",
       "      <td>0</td>\n",
       "      <td>0</td>\n",
       "    </tr>\n",
       "    <tr>\n",
       "      <th>2</th>\n",
       "      <td>SWIZERLAND</td>\n",
       "      <td>march</td>\n",
       "      <td>20341</td>\n",
       "      <td>322640</td>\n",
       "      <td>34.0</td>\n",
       "      <td>31.0</td>\n",
       "      <td>13</td>\n",
       "      <td>230</td>\n",
       "      <td>83</td>\n",
       "      <td>32.5</td>\n",
       "      <td>...</td>\n",
       "      <td>0</td>\n",
       "      <td>0</td>\n",
       "      <td>0</td>\n",
       "      <td>0</td>\n",
       "      <td>0</td>\n",
       "      <td>1</td>\n",
       "      <td>0</td>\n",
       "      <td>0</td>\n",
       "      <td>0</td>\n",
       "      <td>0</td>\n",
       "    </tr>\n",
       "    <tr>\n",
       "      <th>3</th>\n",
       "      <td>SWIZERLAND</td>\n",
       "      <td>april</td>\n",
       "      <td>138966</td>\n",
       "      <td>1426600</td>\n",
       "      <td>34.2</td>\n",
       "      <td>31.2</td>\n",
       "      <td>9</td>\n",
       "      <td>95</td>\n",
       "      <td>84</td>\n",
       "      <td>32.7</td>\n",
       "      <td>...</td>\n",
       "      <td>0</td>\n",
       "      <td>0</td>\n",
       "      <td>0</td>\n",
       "      <td>0</td>\n",
       "      <td>0</td>\n",
       "      <td>0</td>\n",
       "      <td>0</td>\n",
       "      <td>0</td>\n",
       "      <td>0</td>\n",
       "      <td>0</td>\n",
       "    </tr>\n",
       "    <tr>\n",
       "      <th>4</th>\n",
       "      <td>SWIZERLAND</td>\n",
       "      <td>may</td>\n",
       "      <td>78025</td>\n",
       "      <td>917229</td>\n",
       "      <td>33.2</td>\n",
       "      <td>32.2</td>\n",
       "      <td>10</td>\n",
       "      <td>106</td>\n",
       "      <td>83</td>\n",
       "      <td>32.7</td>\n",
       "      <td>...</td>\n",
       "      <td>0</td>\n",
       "      <td>0</td>\n",
       "      <td>0</td>\n",
       "      <td>0</td>\n",
       "      <td>0</td>\n",
       "      <td>0</td>\n",
       "      <td>1</td>\n",
       "      <td>0</td>\n",
       "      <td>0</td>\n",
       "      <td>0</td>\n",
       "    </tr>\n",
       "    <tr>\n",
       "      <th>...</th>\n",
       "      <td>...</td>\n",
       "      <td>...</td>\n",
       "      <td>...</td>\n",
       "      <td>...</td>\n",
       "      <td>...</td>\n",
       "      <td>...</td>\n",
       "      <td>...</td>\n",
       "      <td>...</td>\n",
       "      <td>...</td>\n",
       "      <td>...</td>\n",
       "      <td>...</td>\n",
       "      <td>...</td>\n",
       "      <td>...</td>\n",
       "      <td>...</td>\n",
       "      <td>...</td>\n",
       "      <td>...</td>\n",
       "      <td>...</td>\n",
       "      <td>...</td>\n",
       "      <td>...</td>\n",
       "      <td>...</td>\n",
       "      <td>...</td>\n",
       "    </tr>\n",
       "    <tr>\n",
       "      <th>1291</th>\n",
       "      <td>GUINEA</td>\n",
       "      <td>aug</td>\n",
       "      <td>57775</td>\n",
       "      <td>1046312</td>\n",
       "      <td>29.6</td>\n",
       "      <td>29.2</td>\n",
       "      <td>11</td>\n",
       "      <td>190</td>\n",
       "      <td>83</td>\n",
       "      <td>29.4</td>\n",
       "      <td>...</td>\n",
       "      <td>0</td>\n",
       "      <td>0</td>\n",
       "      <td>0</td>\n",
       "      <td>0</td>\n",
       "      <td>0</td>\n",
       "      <td>0</td>\n",
       "      <td>0</td>\n",
       "      <td>0</td>\n",
       "      <td>0</td>\n",
       "      <td>0</td>\n",
       "    </tr>\n",
       "    <tr>\n",
       "      <th>1292</th>\n",
       "      <td>GUINEA</td>\n",
       "      <td>sept</td>\n",
       "      <td>135440</td>\n",
       "      <td>507198</td>\n",
       "      <td>31.4</td>\n",
       "      <td>30.2</td>\n",
       "      <td>10</td>\n",
       "      <td>170</td>\n",
       "      <td>83</td>\n",
       "      <td>30.8</td>\n",
       "      <td>...</td>\n",
       "      <td>0</td>\n",
       "      <td>0</td>\n",
       "      <td>0</td>\n",
       "      <td>0</td>\n",
       "      <td>0</td>\n",
       "      <td>0</td>\n",
       "      <td>0</td>\n",
       "      <td>0</td>\n",
       "      <td>0</td>\n",
       "      <td>1</td>\n",
       "    </tr>\n",
       "    <tr>\n",
       "      <th>1293</th>\n",
       "      <td>GUINEA</td>\n",
       "      <td>oct</td>\n",
       "      <td>141695</td>\n",
       "      <td>911982</td>\n",
       "      <td>33.6</td>\n",
       "      <td>31.4</td>\n",
       "      <td>12</td>\n",
       "      <td>215</td>\n",
       "      <td>83</td>\n",
       "      <td>32.5</td>\n",
       "      <td>...</td>\n",
       "      <td>0</td>\n",
       "      <td>0</td>\n",
       "      <td>0</td>\n",
       "      <td>0</td>\n",
       "      <td>0</td>\n",
       "      <td>0</td>\n",
       "      <td>0</td>\n",
       "      <td>0</td>\n",
       "      <td>1</td>\n",
       "      <td>0</td>\n",
       "    </tr>\n",
       "    <tr>\n",
       "      <th>1294</th>\n",
       "      <td>GUINEA</td>\n",
       "      <td>nov</td>\n",
       "      <td>68953</td>\n",
       "      <td>2451522</td>\n",
       "      <td>32.7</td>\n",
       "      <td>30.4</td>\n",
       "      <td>12</td>\n",
       "      <td>215</td>\n",
       "      <td>84</td>\n",
       "      <td>31.6</td>\n",
       "      <td>...</td>\n",
       "      <td>0</td>\n",
       "      <td>0</td>\n",
       "      <td>0</td>\n",
       "      <td>0</td>\n",
       "      <td>0</td>\n",
       "      <td>0</td>\n",
       "      <td>0</td>\n",
       "      <td>1</td>\n",
       "      <td>0</td>\n",
       "      <td>0</td>\n",
       "    </tr>\n",
       "    <tr>\n",
       "      <th>1295</th>\n",
       "      <td>GUINEA</td>\n",
       "      <td>dec</td>\n",
       "      <td>99575</td>\n",
       "      <td>1420575</td>\n",
       "      <td>33.0</td>\n",
       "      <td>32.4</td>\n",
       "      <td>14</td>\n",
       "      <td>225</td>\n",
       "      <td>83</td>\n",
       "      <td>32.7</td>\n",
       "      <td>...</td>\n",
       "      <td>1</td>\n",
       "      <td>0</td>\n",
       "      <td>0</td>\n",
       "      <td>0</td>\n",
       "      <td>0</td>\n",
       "      <td>0</td>\n",
       "      <td>0</td>\n",
       "      <td>0</td>\n",
       "      <td>0</td>\n",
       "      <td>0</td>\n",
       "    </tr>\n",
       "  </tbody>\n",
       "</table>\n",
       "<p>1296 rows × 130 columns</p>\n",
       "</div>"
      ],
      "text/plain": [
       "         Country  Month  Visitors  search_interest  avg_high_celsius  \\\n",
       "0     SWIZERLAND    jan     51772           646372              33.0   \n",
       "1     SWIZERLAND    feb    130947           631166              32.4   \n",
       "2     SWIZERLAND  march     20341           322640              34.0   \n",
       "3     SWIZERLAND  april    138966          1426600              34.2   \n",
       "4     SWIZERLAND    may     78025           917229              33.2   \n",
       "...          ...    ...       ...              ...               ...   \n",
       "1291      GUINEA    aug     57775          1046312              29.6   \n",
       "1292      GUINEA   sept    135440           507198              31.4   \n",
       "1293      GUINEA    oct    141695           911982              33.6   \n",
       "1294      GUINEA    nov     68953          2451522              32.7   \n",
       "1295      GUINEA    dec     99575          1420575              33.0   \n",
       "\n",
       "      avg_low_celsius  avg_ppt_days  avg_ppt_mm  avg_relative_humidity  \\\n",
       "0                29.0            16         274                     83   \n",
       "1                30.4            15         265                     83   \n",
       "2                31.0            13         230                     83   \n",
       "3                31.2             9          95                     84   \n",
       "4                32.2            10         106                     83   \n",
       "...               ...           ...         ...                    ...   \n",
       "1291             29.2            11         190                     83   \n",
       "1292             30.2            10         170                     83   \n",
       "1293             31.4            12         215                     83   \n",
       "1294             30.4            12         215                     84   \n",
       "1295             32.4            14         225                     83   \n",
       "\n",
       "      daily_mean_celsius  ...  dec  feb  jan  july  june  march  may  nov  \\\n",
       "0                   31.0  ...    0    0    1     0     0      0    0    0   \n",
       "1                   31.4  ...    0    1    0     0     0      0    0    0   \n",
       "2                   32.5  ...    0    0    0     0     0      1    0    0   \n",
       "3                   32.7  ...    0    0    0     0     0      0    0    0   \n",
       "4                   32.7  ...    0    0    0     0     0      0    1    0   \n",
       "...                  ...  ...  ...  ...  ...   ...   ...    ...  ...  ...   \n",
       "1291                29.4  ...    0    0    0     0     0      0    0    0   \n",
       "1292                30.8  ...    0    0    0     0     0      0    0    0   \n",
       "1293                32.5  ...    0    0    0     0     0      0    0    0   \n",
       "1294                31.6  ...    0    0    0     0     0      0    0    1   \n",
       "1295                32.7  ...    1    0    0     0     0      0    0    0   \n",
       "\n",
       "      oct  sept  \n",
       "0       0     0  \n",
       "1       0     0  \n",
       "2       0     0  \n",
       "3       0     0  \n",
       "4       0     0  \n",
       "...   ...   ...  \n",
       "1291    0     0  \n",
       "1292    0     1  \n",
       "1293    1     0  \n",
       "1294    0     0  \n",
       "1295    0     0  \n",
       "\n",
       "[1296 rows x 130 columns]"
      ]
     },
     "execution_count": 14,
     "metadata": {},
     "output_type": "execute_result"
    }
   ],
   "source": [
    "countries = pd.get_dummies(tourism_data['Country'])\n",
    "months = pd.get_dummies(tourism_data['Month'])\n",
    "\n",
    "tourism_data = pd.concat([tourism_data, countries, months], axis=1)\n",
    "\n",
    "#tourism_data = df_full.drop(df_full.columns[[0, 1]], axis=1)\n",
    "tourism_data"
   ]
  },
  {
   "cell_type": "markdown",
   "id": "47ba3b8b",
   "metadata": {},
   "source": [
    "# Feature Selection"
   ]
  },
  {
   "cell_type": "markdown",
   "id": "6b726864",
   "metadata": {},
   "source": [
    "Feature selection is important especially when you have too many features to begin with. By reducing the number of features hopefully it can also improve the performance of the model. There are 3 common methods of doing feature selection: Filter, wrapper, and embedded. For this project I choose a filter method by using a Pearson correlation matrix.\n",
    "\n",
    "My goal in this step is to find features that are too similar to each other and keep only one of them. Below is the Pearson correlation heatmap to see the correlation of all features in the weather dataset."
   ]
  },
  {
   "cell_type": "code",
   "execution_count": 15,
   "id": "02ffa019",
   "metadata": {},
   "outputs": [
    {
     "data": {
      "image/png": "[encoded data removed]",
      "text/plain": [
       "<Figure size 792x648 with 2 Axes>"
      ]
     },
     "metadata": {
      "needs_background": "light"
     },
     "output_type": "display_data"
    }
   ],
   "source": [
    "plt.figure(figsize=(11,9))\n",
    "cor = tourism_data[['daily_mean_celsius','avg_low_celsius','avg_high_celsius','avg_ppt_days',\n",
    "       'avg_ppt_mm', 'avg_relative_humidity']].astype(str).astype(float).corr()\n",
    "sns.heatmap(cor, annot=True, cmap=plt.cm.Reds)\n",
    "plt.show()"
   ]
  },
  {
   "cell_type": "markdown",
   "id": "bb0757b0",
   "metadata": {},
   "source": [
    "Since daily_mean_celsius, average_low_celsius, and average_high_celsius have strong positive correlation with each other, therefore I only keep daily_mean_celsius. \n",
    "\n",
    "Same thing happens with average_precipitation_days, average_precipitation_mm, and average_relative_hummidity. 3 of them also have strong positive correlation so I decided only to keep average_precipitation_mm."
   ]
  },
  {
   "cell_type": "markdown",
   "id": "48b87bff",
   "metadata": {},
   "source": [
    "# Train & Test Split"
   ]
  },
  {
   "cell_type": "code",
   "execution_count": 16,
   "id": "fbf41648",
   "metadata": {},
   "outputs": [],
   "source": [
    "from sklearn.model_selection import train_test_split"
   ]
  },
  {
   "cell_type": "code",
   "execution_count": 17,
   "id": "595e4f4a",
   "metadata": {},
   "outputs": [],
   "source": [
    "#features_df = tourism_data[['search_interest','avg_ppt_mm','daily_mean_celsius','AUSTRALIA','CHINA','INDIA','JAPAN','MALAYSIA', 'UNITED STATES OF AMERICA', 'april', 'aug', 'dec', 'feb','jan', 'july', 'june', 'march', 'may', 'nov', 'oct', 'sept']]\n",
    "features_df = tourism_data[['search_interest','avg_ppt_mm','daily_mean_celsius']]\n",
    "\n",
    "\n",
    "# Create the X and y arrays\n",
    "X = features_df.to_numpy()\n",
    "y = tourism_data['Visitors'].to_numpy()\n",
    "\n",
    "# Split the data set in a training set (80%) and a test set (20%)\n",
    "X_train, X_test, y_train, y_test = train_test_split(X, y, test_size=0.2, random_state=0)"
   ]
  },
  {
   "cell_type": "markdown",
   "id": "5402fb85",
   "metadata": {},
   "source": [
    "# Build ML Model"
   ]
  },
  {
   "cell_type": "markdown",
   "id": "a446a8dd",
   "metadata": {},
   "source": [
    "For building a prediction model, I choose the Gradient Boosting and Random Forest algorithm. Both are an ensemble method, a technique that creates multiple models and then combines them to produce better results, in this case both Gradient Boosting and Random Forest generated multiple decision trees. So what is the difference between them? Gradient boosting using a method called “boosting” while random forest used a method called “bagging”. Boosting method is running iteratively, it evaluates what it gets right and what it gets wrong on that first tree, and then with the next iteration it places a heavier weight on those observations that it got wrong, this process continues until it has minimized the error as much as possible. The bagging method builds decision-trees simultaneously and later uses a voting method to combine the predictions of each.\n",
    "\n",
    "In order to build the best model, I need to find the best value for each parameter of the model, this is something that is famously known as hyperparameter optimization. Usually, the value of hyperparameters is chosen randomly and then pick the hyperparameters value with the best accuracy result. But it can be a very exhausting process especially if there is more than one hyperparameter in one model, therefore it is better to use an algorithm to find the best hyperparameter combination automatically such as grid-search. By using scikit-learn library, the Grid Search algorithm can be implemented by importing a class called GridSearchCV."
   ]
  },
  {
   "cell_type": "code",
   "execution_count": 18,
   "id": "95e00123",
   "metadata": {},
   "outputs": [],
   "source": [
    "# Parameters we want to try\n",
    "param_grid = {\n",
    "    'n_estimators': [100, 500, 1000, 3000],\n",
    "    'max_depth': [5, 10, 30, 60, 100, None]\n",
    "   \n",
    "}"
   ]
  },
  {
   "cell_type": "code",
   "execution_count": 19,
   "id": "a2a5e3d3",
   "metadata": {},
   "outputs": [],
   "source": [
    "from sklearn.model_selection import GridSearchCV\n",
    "from sklearn import ensemble"
   ]
  },
  {
   "cell_type": "code",
   "execution_count": 20,
   "id": "9afd96a0",
   "metadata": {},
   "outputs": [],
   "source": [
    "# Define the grid search we want to run. For K-Fold cross validation I use K=5\n",
    "gs_cv_gradient = GridSearchCV(ensemble.GradientBoostingRegressor(), param_grid, n_jobs=-1, cv = 5)\n",
    "gs_cv_randomf = GridSearchCV(ensemble.RandomForestRegressor(), param_grid, n_jobs=-1, cv = 5)\n",
    "\n"
   ]
  },
  {
   "cell_type": "code",
   "execution_count": 21,
   "id": "12ead8d0",
   "metadata": {},
   "outputs": [
    {
     "data": {
      "text/plain": [
       "GridSearchCV(cv=5, estimator=RandomForestRegressor(), n_jobs=-1,\n",
       "             param_grid={'max_depth': [5, 10, 30, 60, 100, None],\n",
       "                         'n_estimators': [100, 500, 1000, 3000]})"
      ]
     },
     "execution_count": 21,
     "metadata": {},
     "output_type": "execute_result"
    }
   ],
   "source": [
    "# Run the grid search on the training data.\n",
    "gs_cv_gradient.fit(X_train, y_train)\n",
    "gs_cv_randomf.fit(X_train, y_train)"
   ]
  },
  {
   "cell_type": "code",
   "execution_count": 22,
   "id": "908f2838",
   "metadata": {},
   "outputs": [
    {
     "data": {
      "text/plain": [
       "{'max_depth': 5, 'n_estimators': 100}"
      ]
     },
     "execution_count": 22,
     "metadata": {},
     "output_type": "execute_result"
    }
   ],
   "source": [
    "gs_cv_gradient.best_params_"
   ]
  },
  {
   "cell_type": "code",
   "execution_count": 23,
   "id": "28c114bd",
   "metadata": {},
   "outputs": [
    {
     "data": {
      "text/plain": [
       "{'max_depth': 5, 'n_estimators': 500}"
      ]
     },
     "execution_count": 23,
     "metadata": {},
     "output_type": "execute_result"
    }
   ],
   "source": [
    "gs_cv_randomf.best_params_"
   ]
  },
  {
   "cell_type": "markdown",
   "id": "4ef50b1e",
   "metadata": {},
   "source": [
    "# Evaluation\n",
    "To evaluate this model I calculate R-squared (R2) and mean absolute error (MAE). Both of this measurement are calculated using scikit-learn:"
   ]
  },
  {
   "cell_type": "code",
   "execution_count": 24,
   "id": "a4ac5092",
   "metadata": {},
   "outputs": [],
   "source": [
    "from sklearn.metrics import mean_absolute_error\n",
    "from sklearn.metrics import r2_score"
   ]
  },
  {
   "cell_type": "code",
   "execution_count": 33,
   "id": "103ad170",
   "metadata": {},
   "outputs": [
    {
     "name": "stdout",
     "output_type": "stream",
     "text": [
      "Mean Absolute Error for test set using Gradient Boost: 34129.77118054086\n",
      "r2 score Error for test set using Gradient Boost: -0.24418739507955323\n",
      "\n",
      "\n",
      "Mean Absolute Error for test set using Random Forest: 32213.51544625458\n",
      "r2 score Error for test set using Random Forest: -0.0660215245722533\n"
     ]
    }
   ],
   "source": [
    "print('Mean Absolute Error for test set using Gradient Boost: '+str(mean_absolute_error(y_test, gs_cv_gradient.predict(X_test))))\n",
    "print('r2 score Error for test set using Gradient Boost: '+str(r2_score(y_test, gs_cv_gradient.predict(X_test))) + \"\\n\\n\")\n",
    "print('Mean Absolute Error for test set using Random Forest: '+str(mean_absolute_error(y_test, gs_cv_randomf.predict(X_test))))\n",
    "print('r2 score Error for test set using Random Forest: '+str(r2_score(y_test, gs_cv_randomf.predict(X_test))))"
   ]
  },
  {
   "cell_type": "markdown",
   "id": "9626c3ae-a391-421c-8550-be88782ae579",
   "metadata": {},
   "source": [
    "#### MAE\n",
    "MAE=10 implies that, on average, the forecast's distance from the true value is 10 (e.g true value is 200 and forecast is 190 or true value"
   ]
  },
  {
   "cell_type": "markdown",
   "id": "e423be7b",
   "metadata": {},
   "source": [
    "# Feature Importance\n",
    "Since both models are tree-based machine learning algorithms, we can actually rank all features based on how often they are used in determining the dependent variable. "
   ]
  },
  {
   "cell_type": "code",
   "execution_count": 26,
   "id": "eb753025",
   "metadata": {},
   "outputs": [],
   "source": [
    "import numpy as np"
   ]
  },
  {
   "cell_type": "code",
   "execution_count": 27,
   "id": "fb91be66",
   "metadata": {},
   "outputs": [
    {
     "name": "stdout",
     "output_type": "stream",
     "text": [
      "daily_mean_celsius - 6.84%\n",
      "avg_ppt_mm - 11.26%\n",
      "search_interest - 81.90%\n"
     ]
    }
   ],
   "source": [
    "# These are the feature labels from our data set\n",
    "feature_labels = np.array(['search_interest','avg_ppt_mm','daily_mean_celsius','AUSTRALIA','CHINA','INDIA','JAPAN','MALAYSIA', 'UNITED STATES OF AMERICA', 'april', 'aug', 'dec', 'feb','jan', 'july', 'june', 'march', 'may', 'nov', 'oct', 'sept'])\n",
    "\n",
    "# Create a numpy array based on the model's feature importances\n",
    "importance = gs_cv_gradient.best_estimator_.feature_importances_\n",
    "\n",
    "# Sort the feature labels based on the feature importance rankings from the model\n",
    "feauture_indexes_by_importance = importance.argsort()\n",
    "\n",
    "# Print each feature label, from most important to least important (reverse order)\n",
    "for index in feauture_indexes_by_importance:\n",
    "    print(\"{} - {:.2f}%\".format(feature_labels[index], (importance[index] * 100.0)))"
   ]
  },
  {
   "cell_type": "code",
   "execution_count": 28,
   "id": "14ddabb9",
   "metadata": {},
   "outputs": [
    {
     "name": "stdout",
     "output_type": "stream",
     "text": [
      "daily_mean_celsius - 9.23%\n",
      "avg_ppt_mm - 13.92%\n",
      "search_interest - 76.85%\n"
     ]
    }
   ],
   "source": [
    "# These are the feature labels from our data set\n",
    "feature_labels = np.array(['search_interest','avg_ppt_mm','daily_mean_celsius','AUSTRALIA','CHINA','INDIA','JAPAN','MALAYSIA', 'UNITED STATES OF AMERICA', 'april', 'aug', 'dec', 'feb','jan', 'july', 'june', 'march', 'may', 'nov', 'oct', 'sept'])\n",
    "\n",
    "# Create a numpy array based on the model's feature importances\n",
    "importance = gs_cv_randomf.best_estimator_.feature_importances_\n",
    "\n",
    "# Sort the feature labels based on the feature importance rankings from the model\n",
    "feauture_indexes_by_importance = importance.argsort()\n",
    "\n",
    "# Print each feature label, from most important to least important (reverse order)\n",
    "for index in feauture_indexes_by_importance:\n",
    "    print(\"{} - {:.2f}%\".format(feature_labels[index], (importance[index] * 100.0)))"
   ]
  },
  {
   "cell_type": "code",
   "execution_count": 39,
   "id": "08158eef-694e-457f-8f4e-94993b4a068d",
   "metadata": {},
   "outputs": [
    {
     "data": {
      "text/plain": [
       "array([104652.45517679])"
      ]
     },
     "execution_count": 39,
     "metadata": {},
     "output_type": "execute_result"
    }
   ],
   "source": [
    "#['search_interest','avg_ppt_mm','daily_mean_celsius']\n",
    "#Testing a prediction\n",
    "\n",
    "gs_cv_randomf.predict([[128734, 22, 33]])"
   ]
  },
  {
   "cell_type": "code",
   "execution_count": null,
   "id": "515fbc88-62fe-416c-919a-461cbb14dfd7",
   "metadata": {},
   "outputs": [],
   "source": []
  },
  {
   "cell_type": "markdown",
   "id": "be29a528-e332-47ba-8454-b377fdda58d8",
   "metadata": {},
   "source": [
    "### Export the model"
   ]
  },
  {
   "cell_type": "code",
   "execution_count": 42,
   "id": "cf908e94-57db-412d-83f1-0a6589566f5d",
   "metadata": {},
   "outputs": [],
   "source": [
    "import joblib"
   ]
  },
  {
   "cell_type": "code",
   "execution_count": 43,
   "id": "c1b4573a-7e4a-4105-a5a8-c979ed9b1148",
   "metadata": {},
   "outputs": [
    {
     "data": {
      "text/plain": [
       "['TPA_model.sav']"
      ]
     },
     "execution_count": 43,
     "metadata": {},
     "output_type": "execute_result"
    }
   ],
   "source": [
    "filename = 'TPA_model.sav'\n",
    "joblib.dump(gs_cv_randomf, filename)"
   ]
  },
  {
   "cell_type": "code",
   "execution_count": null,
   "id": "22e3ce34-4582-4014-a582-f0486504d5db",
   "metadata": {},
   "outputs": [],
   "source": []
  },
  {
   "cell_type": "markdown",
   "id": "084af090-c730-4eb4-b8b0-e8219a416581",
   "metadata": {},
   "source": [
    "#### Load the model"
   ]
  },
  {
   "cell_type": "code",
   "execution_count": 53,
   "id": "92483b09-3ab6-4415-8e8e-01aa065b3b04",
   "metadata": {},
   "outputs": [
    {
     "data": {
      "text/plain": [
       "104652"
      ]
     },
     "execution_count": 53,
     "metadata": {},
     "output_type": "execute_result"
    }
   ],
   "source": [
    "# load the model from disk\n",
    "loaded_model = joblib.load(filename)\n",
    "\n",
    "loaded_model.predict([[128734, 22, 33]])\n",
    "\n",
    "a = 128734\n",
    "b = 22\n",
    "c = 33\n",
    "np_array = np.empty((0, 3), int) #4 columns or 0 rows\n",
    "\n",
    "# Append a row to the 2D numpy array\n",
    "np_array = np.append(np_array, np.array([[a, b, c]]), axis=0)\n",
    "\n",
    "predicted_val_dec = loaded_model.predict(np_array)\n",
    "predicted_val = round(predicted_val_dec[0])\n",
    "predicted_val"
   ]
  },
  {
   "cell_type": "code",
   "execution_count": null,
   "id": "1d31100b-2adc-47b4-a7a5-cd01c3a3d9ba",
   "metadata": {},
   "outputs": [],
   "source": []
  }
 ],
 "metadata": {
  "kernelspec": {
   "display_name": "Python 3 (ipykernel)",
   "language": "python",
   "name": "python3"
  },
  "language_info": {
   "codemirror_mode": {
    "name": "ipython",
    "version": 3
   },
   "file_extension": ".py",
   "mimetype": "text/x-python",
   "name": "python",
   "nbconvert_exporter": "python",
   "pygments_lexer": "ipython3",
   "version": "3.9.12"
  }
 },
 "nbformat": 4,
 "nbformat_minor": 5
}
